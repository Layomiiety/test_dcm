{
 "cells": [
  {
   "cell_type": "code",
   "execution_count": 1,
   "metadata": {},
   "outputs": [],
   "source": [
    "import csv\n",
    "import json"
   ]
  },
  {
   "cell_type": "code",
   "execution_count": 3,
   "metadata": {},
   "outputs": [
    {
     "name": "stdout",
     "output_type": "stream",
     "text": [
      "['planet_masses_A', 'planet_coordsX_A', 'planet_coordsY_A', 'planet_coordsZ_A', 'planet_velocityX_A', 'planet_velocityY_A', 'planet_velocityZ_A', 'planet_masses_B', 'planet_coordsX_B', 'planet_coordsY_B', 'planet_coordsZ_B', 'planet_velocityX_B', 'planet_velocityY_B', 'planet_velocityZ_B', 'planet_masses_C', 'planet_coordsX_C', 'planet_coordsY_C', 'planet_coordsZ_C', 'planet_velocityX_C', 'planet_velocityY_C', 'planet_velocityZ_C']\n"
     ]
    }
   ],
   "source": [
    "# Update with column names\n",
    "\n",
    "column_names = []\n",
    "objects = ['A', 'B', 'C']\n",
    "parameters = [\n",
    "    'planet_masses',\n",
    "    'planet_coordsX',\n",
    "    'planet_coordsY',\n",
    "    'planet_coordsZ',\n",
    "    'planet_velocityX',\n",
    "    'planet_velocityY',\n",
    "    'planet_velocityZ'\n",
    "]\n",
    "\n",
    "for obj in objects:\n",
    "    for param in parameters:\n",
    "        column_names.append(f'{param}_{obj}')\n",
    "\n",
    "\n"
   ]
  },
  {
   "cell_type": "code",
   "execution_count": 4,
   "metadata": {},
   "outputs": [],
   "source": [
    "# Function to convert CSV data to JSON\n",
    "def csv_to_json(csv_file_path, json_file_path):\n",
    "    # Initialize JSON object\n",
    "    json_data = []\n",
    "\n",
    "    # Read CSV file\n",
    "    with open(csv_file_path, 'r') as csv_file:\n",
    "        csv_reader = csv.reader(csv_file)\n",
    "\n",
    "        # Iterate over each row and convert to JSON object\n",
    "        for index, row in enumerate(csv_reader):\n",
    "            row_data = {}\n",
    "            for i, value in enumerate(row):\n",
    "                row_data[column_names[i]] = value.strip()  # Strip whitespace from values\n",
    "            json_data.append({f'Row{index + 1}': row_data})\n",
    "\n",
    "    # Write JSON data to file\n",
    "    with open(json_file_path, 'w') as json_file:\n",
    "        json.dump(json_data, json_file, indent=4)\n",
    "\n",
    "    print(f\"Conversion completed. JSON file saved at: {json_file_path}\")\n"
   ]
  },
  {
   "cell_type": "code",
   "execution_count": 5,
   "metadata": {},
   "outputs": [
    {
     "name": "stdout",
     "output_type": "stream",
     "text": [
      "Conversion completed. JSON file saved at: true_generative_output.json\n"
     ]
    }
   ],
   "source": [
    "csv_to_json('true_generative.csv', 'true_generative_output.json')"
   ]
  },
  {
   "cell_type": "code",
   "execution_count": null,
   "metadata": {},
   "outputs": [],
   "source": []
  }
 ],
 "metadata": {
  "kernelspec": {
   "display_name": "Python 3",
   "language": "python",
   "name": "python3"
  },
  "language_info": {
   "codemirror_mode": {
    "name": "ipython",
    "version": 3
   },
   "file_extension": ".py",
   "mimetype": "text/x-python",
   "name": "python",
   "nbconvert_exporter": "python",
   "pygments_lexer": "ipython3",
   "version": "3.10.9"
  }
 },
 "nbformat": 4,
 "nbformat_minor": 2
}
